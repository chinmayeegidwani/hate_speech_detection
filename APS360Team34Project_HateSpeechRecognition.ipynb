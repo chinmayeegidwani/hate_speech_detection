{
  "nbformat": 4,
  "nbformat_minor": 0,
  "metadata": {
    "colab": {
      "name": "APS360Team34Project_HateSpeechRecognition.ipynb",
      "provenance": [],
      "collapsed_sections": [],
      "include_colab_link": true
    },
    "kernelspec": {
      "name": "python3",
      "display_name": "Python 3"
    }
  },
  "cells": [
    {
      "cell_type": "markdown",
      "metadata": {
        "id": "view-in-github",
        "colab_type": "text"
      },
      "source": [
        "<a href=\"https://colab.research.google.com/github/chinmayeegidwani/hate_speech_detection/blob/master/APS360Team34Project_HateSpeechRecognition.ipynb\" target=\"_parent\"><img src=\"https://colab.research.google.com/assets/colab-badge.svg\" alt=\"Open In Colab\"/></a>"
      ]
    },
    {
      "cell_type": "code",
      "metadata": {
        "id": "tIq7NVzAmicq",
        "outputId": "e590b968-0df7-4bd1-e3a2-144a25a02f55",
        "colab": {
          "base_uri": "https://localhost:8080/",
          "height": 35
        }
      },
      "source": [
        "import sys\n",
        "sys.version"
      ],
      "execution_count": null,
      "outputs": [
        {
          "output_type": "execute_result",
          "data": {
            "application/vnd.google.colaboratory.intrinsic+json": {
              "type": "string"
            },
            "text/plain": [
              "'3.6.9 (default, Oct  8 2020, 12:12:24) \\n[GCC 8.4.0]'"
            ]
          },
          "metadata": {
            "tags": []
          },
          "execution_count": 2
        }
      ]
    },
    {
      "cell_type": "code",
      "metadata": {
        "id": "IMlQsLuUmDkU"
      },
      "source": [
        "import torch\n",
        "import torchtext\n",
        "!pip3 install fastai\n",
        "import fastai\n",
        "import re\n",
        "import pandas as pd \n",
        "import numpy as np \n",
        "import matplotlib.pyplot as plt \n",
        "import seaborn as sns\n",
        "import string\n",
        "import nltk\n",
        "import warnings "
      ],
      "execution_count": null,
      "outputs": []
    },
    {
      "cell_type": "code",
      "metadata": {
        "id": "cbZ0ygD4mqye",
        "outputId": "f0934aac-3aed-4d07-c8b7-c5bb631deee8",
        "colab": {
          "base_uri": "https://localhost:8080/"
        }
      },
      "source": [
        "# Mount gdrive\n",
        "from google.colab import drive\n",
        "drive.mount('/content/gdrive')\n",
        "\n",
        "project_path = 'Shared with me/APS360: Team Project/Project'\n",
        "data_path =  'Shared with me/APS360: Team Project/Project/Project Data'\n",
        "\n",
        "## confusion about which dataset to load -May\n"
      ],
      "execution_count": null,
      "outputs": [
        {
          "output_type": "stream",
          "text": [
            "Mounted at /content/gdrive\n"
          ],
          "name": "stdout"
        }
      ]
    },
    {
      "cell_type": "code",
      "metadata": {
        "id": "3SK7Cjc6VaZI"
      },
      "source": [
        "def tokenizer():\n",
        "  return None "
      ],
      "execution_count": null,
      "outputs": []
    },
    {
      "cell_type": "code",
      "metadata": {
        "id": "oTIVQmQcvA1M"
      },
      "source": [
        "# Model 1: Classify positive, negative, neutral\n",
        "# Then, filter to include only negative results\n",
        "# Model 2: Classify as hate speech vs not hate speech\n",
        "# make a change\n",
        "num_classes_stg1 = 3 # pos, neg, neutral\n",
        "num_classes_stg2 = 2 # hate vs not hate \n",
        "\n",
        "class StageOne(nn.Module):\n",
        "    def __init__(self, input_size, hidden_size, num_classes):\n",
        "        super(StageOne, self).__init__()\n",
        "        self.emb = # not sure how to embed - May\n",
        "        self.hidden_size = hidden_size\n",
        "        self.rnn = nn.RNN(input_size, hidden_size, batch_first=True) # can experiment with GRU too\n",
        "        self.fc = nn.Linear(hidden_size, num_classes)\n",
        "    def forward(self, x):\n",
        "        # Look up the embedding\n",
        "        x = self.emb[x]\n",
        "        # Set an initial hidden state\n",
        "        h0 = torch.zeros(1, x.size(0), self.hidden_size)\n",
        "        out, _ = self.rnn(x)\n",
        "        out = self.fc(torch.max(out, dim=1)[0]) # similar to lab 5\n",
        "        return\n",
        "\n",
        "'''\n",
        "class StageTwo(nn.Module):\n",
        "    def __init__():\n",
        "        #super(StageTwo, self).__init__()\n",
        "    def forward(self, x):\n",
        "        return\n",
        "'''"
      ],
      "execution_count": null,
      "outputs": []
    },
    {
      "cell_type": "code",
      "metadata": {
        "id": "Ard4xg2nynVy"
      },
      "source": [
        "# Training"
      ],
      "execution_count": null,
      "outputs": []
    }
  ]
}